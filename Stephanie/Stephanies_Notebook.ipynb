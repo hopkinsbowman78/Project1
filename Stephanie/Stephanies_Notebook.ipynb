{
 "cells": [
  {
   "cell_type": "code",
   "execution_count": null,
   "metadata": {},
   "outputs": [],
   "source": [
    "import pandas as pd\n",
    "from pathlib import Path\n",
    "import matplotlib.pyplot as plt"
   ]
  },
  {
   "cell_type": "code",
   "execution_count": null,
   "metadata": {},
   "outputs": [],
   "source": [
    "csv_path = Path(\"../Data/mxmh_survey_results (1).csv\")\n",
    "survey_df = pd.read_csv(csv_path)\n",
    "survey_df.columns"
   ]
  },
  {
   "cell_type": "code",
   "execution_count": null,
   "metadata": {},
   "outputs": [],
   "source": [
    "survey_df = survey_df.fillna({\"BPM\": ''})\n",
    "cleaned_survey_df = survey_df.dropna(how = 'any')\n",
    "cleaned_survey_df.count()"
   ]
  },
  {
   "cell_type": "code",
   "execution_count": null,
   "metadata": {},
   "outputs": [],
   "source": [
    "# \n",
    "cleaned_survey_df.columns "
   ]
  },
  {
   "cell_type": "code",
   "execution_count": null,
   "metadata": {},
   "outputs": [],
   "source": [
    "cleaned_survey_df[\"Anxiety\"].value_counts()"
   ]
  },
  {
   "cell_type": "code",
   "execution_count": null,
   "metadata": {},
   "outputs": [],
   "source": [
    "cleaned_survey_df[\"Music effects\"].value_counts()"
   ]
  },
  {
   "cell_type": "code",
   "execution_count": null,
   "metadata": {},
   "outputs": [],
   "source": [
    "# assign a value on effect \n",
    "mapping = {\"Improve\": +1, \"No effect\": 0, \"Worsen\": -1}\n",
    "cleaned_survey_df[\"Music effects value\"] = cleaned_survey_df[\"Music effects\"].map(mapping)\n"
   ]
  },
  {
   "cell_type": "code",
   "execution_count": null,
   "metadata": {},
   "outputs": [],
   "source": [
    "cleaned_survey_df.head()"
   ]
  },
  {
   "cell_type": "code",
   "execution_count": null,
   "metadata": {},
   "outputs": [],
   "source": [
    "grouped_counts = cleaned_survey_df.groupby(['Anxiety', 'Music effects']).size().reset_index(name='count')\n",
    "grouped_counts.head()"
   ]
  },
  {
   "cell_type": "code",
   "execution_count": null,
   "metadata": {},
   "outputs": [],
   "source": [
    "pivot_table = grouped_counts.pivot_table(\n",
    "    index='Anxiety',       # Rows will be anxiety levels\n",
    "    columns='Music effects',  # Columns will be music effects\n",
    "    values='count',        # Values will be counts\n",
    "    fill_value=0           # Fill missing values with 0\n",
    ")\n",
    "\n",
    "print(pivot_table)"
   ]
  },
  {
   "cell_type": "code",
   "execution_count": null,
   "metadata": {},
   "outputs": [],
   "source": [
    "pivot_table.plot(kind=\"bar\", ylabel=\"Number of People\", xlabel=\"Anxiety Level\", title=\"Music Effects on Anxiety Level\") \n"
   ]
  },
  {
   "cell_type": "code",
   "execution_count": null,
   "metadata": {},
   "outputs": [],
   "source": [
    "grouped_counts = cleaned_survey_df.groupby([\"Depression\", \"Music effects\"]).size().reset_index(name='count')\n",
    "grouped_counts.head()"
   ]
  },
  {
   "cell_type": "code",
   "execution_count": null,
   "metadata": {},
   "outputs": [],
   "source": [
    "pivot_table = grouped_counts.pivot_table(\n",
    "    index='Depression',       # Rows will be anxiety levels\n",
    "    columns='Music effects',  # Columns will be music effects\n",
    "    values='count',        # Values will be counts\n",
    "    fill_value=0           # Fill missing values with 0\n",
    ")\n",
    "\n",
    "print(pivot_table)"
   ]
  },
  {
   "cell_type": "code",
   "execution_count": null,
   "metadata": {},
   "outputs": [],
   "source": [
    "pivot_table.plot(kind=\"bar\", ylabel=\"Number of People\", xlabel=\"Depression Level\", title=\"Music Effects on Depression Level\") "
   ]
  },
  {
   "cell_type": "code",
   "execution_count": null,
   "metadata": {},
   "outputs": [],
   "source": [
    "grouped_counts = cleaned_survey_df.groupby([\"Insomnia\", \"Music effects\"]).size().reset_index(name='count')\n",
    "grouped_counts.head()"
   ]
  },
  {
   "cell_type": "code",
   "execution_count": null,
   "metadata": {},
   "outputs": [],
   "source": [
    "pivot_table = grouped_counts.pivot_table(\n",
    "    index='Insomnia',       # Rows will be anxiety levels\n",
    "    columns='Music effects',  # Columns will be music effects\n",
    "    values='count',        # Values will be counts\n",
    "    fill_value=0           # Fill missing values with 0\n",
    ")\n",
    "\n",
    "print(pivot_table)"
   ]
  },
  {
   "cell_type": "code",
   "execution_count": null,
   "metadata": {},
   "outputs": [],
   "source": [
    "pivot_table.plot(kind=\"bar\", ylabel=\"Number of People\", xlabel=\"Insomnia Level\", title=\"Music Effects on Insomnia Level\") "
   ]
  },
  {
   "cell_type": "code",
   "execution_count": null,
   "metadata": {},
   "outputs": [],
   "source": [
    "grouped_counts = cleaned_survey_df.groupby([\"OCD\", \"Music effects\"]).size().reset_index(name='count')\n",
    "grouped_counts.head()"
   ]
  },
  {
   "cell_type": "code",
   "execution_count": null,
   "metadata": {},
   "outputs": [],
   "source": [
    "pivot_table = grouped_counts.pivot_table(\n",
    "    index='OCD',       # Rows will be anxiety levels\n",
    "    columns='Music effects',  # Columns will be music effects\n",
    "    values='count',        # Values will be counts\n",
    "    fill_value=0           # Fill missing values with 0\n",
    ")\n",
    "\n",
    "print(pivot_table)"
   ]
  },
  {
   "cell_type": "code",
   "execution_count": null,
   "metadata": {},
   "outputs": [],
   "source": [
    "pivot_table.plot(kind=\"bar\", ylabel=\"Number of People\", xlabel=\"OCD Level\", title=\"Music Effects on OCD Level\") \n"
   ]
  }
 ],
 "metadata": {
  "kernelspec": {
   "display_name": "dev",
   "language": "python",
   "name": "python3"
  },
  "language_info": {
   "codemirror_mode": {
    "name": "ipython",
    "version": 3
   },
   "file_extension": ".py",
   "mimetype": "text/x-python",
   "name": "python",
   "nbconvert_exporter": "python",
   "pygments_lexer": "ipython3",
   "version": "3.10.14"
  }
 },
 "nbformat": 4,
 "nbformat_minor": 2
}
