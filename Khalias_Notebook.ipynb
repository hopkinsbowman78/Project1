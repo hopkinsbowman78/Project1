{
 "cells": [
  {
   "cell_type": "markdown",
   "metadata": {},
   "source": [
    "# Mental Health in Music\n",
    "\n",
    "### Question :  Is there a correlation between the primary streaming service used and mental health indicators (anxiety, depression, insomnia, OCD)?\n",
    "\n",
    "### Analysis : Compare mental health scores across different streaming services (e.g., Spotify, Pandora, YouTube Music)."
   ]
  },
  {
   "cell_type": "code",
   "execution_count": 6,
   "metadata": {},
   "outputs": [],
   "source": [
    " #Import Dependicies\n",
    "import pandas as pd\n",
    "from pathlib import Path\n",
    "import matplotlib.pyplot as plt\n"
   ]
  },
  {
   "cell_type": "code",
   "execution_count": 7,
   "metadata": {},
   "outputs": [
    {
     "name": "stdout",
     "output_type": "stream",
     "text": [
      "c:\\Users\\000154302\\OneDrive\\dataviz2024\\Project1\\Khalia\n"
     ]
    }
   ],
   "source": [
    "#Open file and save to a variable\n",
    "import os\n",
    "print(os.getcwd())\n",
    "\n",
    "\n"
   ]
  },
  {
   "cell_type": "code",
   "execution_count": 11,
   "metadata": {},
   "outputs": [],
   "source": [
    "music = Path(\"mxmh_survey_results.csv\")\n",
    "music = Path(\"/full/path/to/your/file/mxmh_survey_results.csv\")\n",
    "\n"
   ]
  },
  {
   "cell_type": "code",
   "execution_count": 9,
   "metadata": {},
   "outputs": [
    {
     "ename": "NameError",
     "evalue": "name 'music_df' is not defined",
     "output_type": "error",
     "traceback": [
      "\u001b[1;31m---------------------------------------------------------------------------\u001b[0m",
      "\u001b[1;31mNameError\u001b[0m                                 Traceback (most recent call last)",
      "Cell \u001b[1;32mIn[9], line 1\u001b[0m\n\u001b[1;32m----> 1\u001b[0m music_df\u001b[38;5;241m.\u001b[39mcount()\n\u001b[0;32m      2\u001b[0m cleaned\u001b[38;5;241m=\u001b[39mmusic_df\u001b[38;5;241m.\u001b[39mdropna()\n\u001b[0;32m      3\u001b[0m cleaned\u001b[38;5;241m.\u001b[39mcount()\n",
      "\u001b[1;31mNameError\u001b[0m: name 'music_df' is not defined"
     ]
    }
   ],
   "source": [
    "music_df.count()\n",
    "cleaned=music_df.dropna()\n",
    "cleaned.count()"
   ]
  },
  {
   "cell_type": "code",
   "execution_count": null,
   "metadata": {},
   "outputs": [],
   "source": [
    "cleaned_df=pd.DataFrame(cleaned)\n",
    "cleaned_df.head()\n",
    "cleaned_df.columns"
   ]
  },
  {
   "cell_type": "code",
   "execution_count": null,
   "metadata": {},
   "outputs": [],
   "source": [
    "df=cleaned_df[['Primary Streaming Service', 'Hours per day', 'Depression', 'Insomnia', 'OCD', 'Anxiety','Music effects']]\n",
    "df"
   ]
  }
 ],
 "metadata": {
  "kernelspec": {
   "display_name": "base",
   "language": "python",
   "name": "python3"
  },
  "language_info": {
   "codemirror_mode": {
    "name": "ipython",
    "version": 3
   },
   "file_extension": ".py",
   "mimetype": "text/x-python",
   "name": "python",
   "nbconvert_exporter": "python",
   "pygments_lexer": "ipython3",
   "version": "3.12.4"
  }
 },
 "nbformat": 4,
 "nbformat_minor": 2
}
